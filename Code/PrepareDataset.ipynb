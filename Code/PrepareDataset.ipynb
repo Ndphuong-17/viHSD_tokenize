{
 "cells": [
  {
   "cell_type": "code",
   "execution_count": 1,
   "metadata": {},
   "outputs": [
    {
     "name": "stdout",
     "output_type": "stream",
     "text": [
      "D:\\Project\\Toolkit_for_Preprocessing_MXH\\viHSD_tokenize\n"
     ]
    },
    {
     "name": "stderr",
     "output_type": "stream",
     "text": [
      "c:\\Users\\ndp17\\.pyenv\\pyenv-win\\versions\\3.10.5\\lib\\site-packages\\IPython\\core\\magics\\osm.py:417: UserWarning: This is now an optional IPython functionality, setting dhist requires you to install the `pickleshare` library.\n",
      "  self.shell.db['dhist'] = compress_dhist(dhist)[-100:]\n"
     ]
    }
   ],
   "source": [
    "%cd D:\\Project\\Toolkit_for_Preprocessing_MXH\\viHSD_tokenize"
   ]
  },
  {
   "cell_type": "code",
   "execution_count": 2,
   "metadata": {},
   "outputs": [],
   "source": [
    "import pandas as pd\n",
    "from IPython.core.interactiveshell import InteractiveShell\n",
    "InteractiveShell.ast_node_interactivity = \"all\"\n",
    "\n",
    "\n",
    "pd.set_option('display.max_rows', None)\n",
    "pd.set_option('display.max_columns', None)\n",
    "pd.set_option('display.width', None)\n",
    "pd.set_option('display.max_colwidth', None)\n",
    "pd.options.display.max_rows"
   ]
  },
  {
   "cell_type": "code",
   "execution_count": 3,
   "metadata": {},
   "outputs": [],
   "source": [
    "path_train =  (r'Data\\Raw\\train.csv')\n",
    "path_dev =    (r'Data\\Raw\\dev.csv')\n",
    "path_test  =  (r'Data\\Raw\\test.csv')\n",
    "path_csv = path_test"
   ]
  },
  {
   "cell_type": "code",
   "execution_count": 4,
   "metadata": {},
   "outputs": [
    {
     "data": {
      "text/html": [
       "<div>\n",
       "<style scoped>\n",
       "    .dataframe tbody tr th:only-of-type {\n",
       "        vertical-align: middle;\n",
       "    }\n",
       "\n",
       "    .dataframe tbody tr th {\n",
       "        vertical-align: top;\n",
       "    }\n",
       "\n",
       "    .dataframe thead th {\n",
       "        text-align: right;\n",
       "    }\n",
       "</style>\n",
       "<table border=\"1\" class=\"dataframe\">\n",
       "  <thead>\n",
       "    <tr style=\"text-align: right;\">\n",
       "      <th></th>\n",
       "      <th>free_text</th>\n",
       "      <th>label_id</th>\n",
       "    </tr>\n",
       "  </thead>\n",
       "  <tbody>\n",
       "    <tr>\n",
       "      <th>0</th>\n",
       "      <td>Đừng cố biện minh =)))) choi lon</td>\n",
       "      <td>0</td>\n",
       "    </tr>\n",
       "    <tr>\n",
       "      <th>1</th>\n",
       "      <td>Haizz. Nthe này thì dân khổ quá</td>\n",
       "      <td>1</td>\n",
       "    </tr>\n",
       "    <tr>\n",
       "      <th>2</th>\n",
       "      <td>the nay ma chi phat gay roi trat tu cong cong thoi a dung la dan minh</td>\n",
       "      <td>0</td>\n",
       "    </tr>\n",
       "    <tr>\n",
       "      <th>3</th>\n",
       "      <td>Mua cho em hộp bcs mĩ sài cho oai :))</td>\n",
       "      <td>0</td>\n",
       "    </tr>\n",
       "    <tr>\n",
       "      <th>4</th>\n",
       "      <td>coin card :3</td>\n",
       "      <td>1</td>\n",
       "    </tr>\n",
       "  </tbody>\n",
       "</table>\n",
       "</div>"
      ],
      "text/plain": [
       "                                                               free_text  \\\n",
       "0                                       Đừng cố biện minh =)))) choi lon   \n",
       "1                                        Haizz. Nthe này thì dân khổ quá   \n",
       "2  the nay ma chi phat gay roi trat tu cong cong thoi a dung la dan minh   \n",
       "3                                  Mua cho em hộp bcs mĩ sài cho oai :))   \n",
       "4                                                           coin card :3   \n",
       "\n",
       "   label_id  \n",
       "0         0  \n",
       "1         1  \n",
       "2         0  \n",
       "3         0  \n",
       "4         1  "
      ]
     },
     "execution_count": 4,
     "metadata": {},
     "output_type": "execute_result"
    }
   ],
   "source": [
    "data = pd.read_csv(path_csv, encoding = 'utf-8')\n",
    "\n",
    "data.head()"
   ]
  },
  {
   "cell_type": "code",
   "execution_count": 13,
   "metadata": {},
   "outputs": [],
   "source": [
    "from Code.Preprocessing import unicode, dupplicate_punctuation, deleteIcon, to_category_vector\n",
    "import pandas as pd\n",
    "import numpy as np\n",
    "\n",
    "classes = ['0', '1', '2']\n",
    "\n",
    "def load_data(path_csv):\n",
    "    data = pd.read_csv(path_csv, encoding = 'utf-8')\n",
    "    data = data.applymap(str)\n",
    "    # Apply the replacement function to the 'content' column\n",
    "    data['Sentence'] = data['free_text'].apply(unicode)\n",
    "    data['Sentence'] = data['Sentence'].apply(lambda row: dupplicate_punctuation(row)[0])\n",
    "    data['Text'] = data['Sentence'].apply(deleteIcon)\n",
    "    data['Tag'] = data['label_id'].apply(lambda x: to_category_vector(x, classes))\n",
    "    data = data[['Text', 'Tag']]\n",
    "\n",
    "    return data"
   ]
  },
  {
   "cell_type": "code",
   "execution_count": 14,
   "metadata": {},
   "outputs": [
    {
     "name": "stderr",
     "output_type": "stream",
     "text": [
      "C:\\Users\\ndp17\\AppData\\Local\\Temp\\ipykernel_9356\\1653465068.py:9: FutureWarning: DataFrame.applymap has been deprecated. Use DataFrame.map instead.\n",
      "  data = data.applymap(str)\n",
      "C:\\Users\\ndp17\\AppData\\Local\\Temp\\ipykernel_9356\\1653465068.py:9: FutureWarning: DataFrame.applymap has been deprecated. Use DataFrame.map instead.\n",
      "  data = data.applymap(str)\n",
      "C:\\Users\\ndp17\\AppData\\Local\\Temp\\ipykernel_9356\\1653465068.py:9: FutureWarning: DataFrame.applymap has been deprecated. Use DataFrame.map instead.\n",
      "  data = data.applymap(str)\n"
     ]
    },
    {
     "data": {
      "text/html": [
       "<div>\n",
       "<style scoped>\n",
       "    .dataframe tbody tr th:only-of-type {\n",
       "        vertical-align: middle;\n",
       "    }\n",
       "\n",
       "    .dataframe tbody tr th {\n",
       "        vertical-align: top;\n",
       "    }\n",
       "\n",
       "    .dataframe thead th {\n",
       "        text-align: right;\n",
       "    }\n",
       "</style>\n",
       "<table border=\"1\" class=\"dataframe\">\n",
       "  <thead>\n",
       "    <tr style=\"text-align: right;\">\n",
       "      <th></th>\n",
       "      <th>Text</th>\n",
       "      <th>Tag</th>\n",
       "    </tr>\n",
       "  </thead>\n",
       "  <tbody>\n",
       "    <tr>\n",
       "      <th>0</th>\n",
       "      <td>đừng cố biện minh choi lon</td>\n",
       "      <td>[1.0, 0.0, 0.0]</td>\n",
       "    </tr>\n",
       "    <tr>\n",
       "      <th>1</th>\n",
       "      <td>haizz. nthe này thì dân khổ quá</td>\n",
       "      <td>[0.0, 1.0, 0.0]</td>\n",
       "    </tr>\n",
       "    <tr>\n",
       "      <th>2</th>\n",
       "      <td>the nay ma chi phat gay roi trat tu cong cong thoi a dung la dan minh</td>\n",
       "      <td>[1.0, 0.0, 0.0]</td>\n",
       "    </tr>\n",
       "    <tr>\n",
       "      <th>3</th>\n",
       "      <td>mua cho em hộp bcs mĩ sài cho oai</td>\n",
       "      <td>[1.0, 0.0, 0.0]</td>\n",
       "    </tr>\n",
       "    <tr>\n",
       "      <th>4</th>\n",
       "      <td>coin card</td>\n",
       "      <td>[0.0, 1.0, 0.0]</td>\n",
       "    </tr>\n",
       "  </tbody>\n",
       "</table>\n",
       "</div>"
      ],
      "text/plain": [
       "                                                                    Text  \\\n",
       "0                                             đừng cố biện minh choi lon   \n",
       "1                                        haizz. nthe này thì dân khổ quá   \n",
       "2  the nay ma chi phat gay roi trat tu cong cong thoi a dung la dan minh   \n",
       "3                                      mua cho em hộp bcs mĩ sài cho oai   \n",
       "4                                                              coin card   \n",
       "\n",
       "               Tag  \n",
       "0  [1.0, 0.0, 0.0]  \n",
       "1  [0.0, 1.0, 0.0]  \n",
       "2  [1.0, 0.0, 0.0]  \n",
       "3  [1.0, 0.0, 0.0]  \n",
       "4  [0.0, 1.0, 0.0]  "
      ]
     },
     "execution_count": 14,
     "metadata": {},
     "output_type": "execute_result"
    }
   ],
   "source": [
    "test = load_data(path_test)\n",
    "train = load_data(path_train)\n",
    "dev = load_data(path_dev)\n",
    "\n",
    "test.head()"
   ]
  },
  {
   "cell_type": "code",
   "execution_count": 15,
   "metadata": {},
   "outputs": [
    {
     "data": {
      "text/html": [
       "<div>\n",
       "<style scoped>\n",
       "    .dataframe tbody tr th:only-of-type {\n",
       "        vertical-align: middle;\n",
       "    }\n",
       "\n",
       "    .dataframe tbody tr th {\n",
       "        vertical-align: top;\n",
       "    }\n",
       "\n",
       "    .dataframe thead th {\n",
       "        text-align: right;\n",
       "    }\n",
       "</style>\n",
       "<table border=\"1\" class=\"dataframe\">\n",
       "  <thead>\n",
       "    <tr style=\"text-align: right;\">\n",
       "      <th></th>\n",
       "      <th>index</th>\n",
       "      <th>Text</th>\n",
       "      <th>Tag</th>\n",
       "    </tr>\n",
       "  </thead>\n",
       "  <tbody>\n",
       "    <tr>\n",
       "      <th>0</th>\n",
       "      <td>0</td>\n",
       "      <td>đừng cố biện minh choi lon</td>\n",
       "      <td>[1.0, 0.0, 0.0]</td>\n",
       "    </tr>\n",
       "    <tr>\n",
       "      <th>1</th>\n",
       "      <td>1</td>\n",
       "      <td>haizz. nthe này thì dân khổ quá</td>\n",
       "      <td>[0.0, 1.0, 0.0]</td>\n",
       "    </tr>\n",
       "    <tr>\n",
       "      <th>2</th>\n",
       "      <td>2</td>\n",
       "      <td>the nay ma chi phat gay roi trat tu cong cong thoi a dung la dan minh</td>\n",
       "      <td>[1.0, 0.0, 0.0]</td>\n",
       "    </tr>\n",
       "    <tr>\n",
       "      <th>3</th>\n",
       "      <td>3</td>\n",
       "      <td>mua cho em hộp bcs mĩ sài cho oai</td>\n",
       "      <td>[1.0, 0.0, 0.0]</td>\n",
       "    </tr>\n",
       "    <tr>\n",
       "      <th>4</th>\n",
       "      <td>4</td>\n",
       "      <td>coin card</td>\n",
       "      <td>[0.0, 1.0, 0.0]</td>\n",
       "    </tr>\n",
       "  </tbody>\n",
       "</table>\n",
       "</div>"
      ],
      "text/plain": [
       "   index  \\\n",
       "0      0   \n",
       "1      1   \n",
       "2      2   \n",
       "3      3   \n",
       "4      4   \n",
       "\n",
       "                                                                    Text  \\\n",
       "0                                             đừng cố biện minh choi lon   \n",
       "1                                        haizz. nthe này thì dân khổ quá   \n",
       "2  the nay ma chi phat gay roi trat tu cong cong thoi a dung la dan minh   \n",
       "3                                      mua cho em hộp bcs mĩ sài cho oai   \n",
       "4                                                              coin card   \n",
       "\n",
       "               Tag  \n",
       "0  [1.0, 0.0, 0.0]  \n",
       "1  [0.0, 1.0, 0.0]  \n",
       "2  [1.0, 0.0, 0.0]  \n",
       "3  [1.0, 0.0, 0.0]  \n",
       "4  [0.0, 1.0, 0.0]  "
      ]
     },
     "execution_count": 15,
     "metadata": {},
     "output_type": "execute_result"
    }
   ],
   "source": [
    "train.reset_index(inplace=True)\n",
    "dev.reset_index(inplace=True)\n",
    "test.reset_index(inplace=True)\n",
    "\n",
    "test.head()"
   ]
  },
  {
   "cell_type": "code",
   "execution_count": 16,
   "metadata": {},
   "outputs": [
    {
     "data": {
      "text/html": [
       "<div>\n",
       "<style scoped>\n",
       "    .dataframe tbody tr th:only-of-type {\n",
       "        vertical-align: middle;\n",
       "    }\n",
       "\n",
       "    .dataframe tbody tr th {\n",
       "        vertical-align: top;\n",
       "    }\n",
       "\n",
       "    .dataframe thead th {\n",
       "        text-align: right;\n",
       "    }\n",
       "</style>\n",
       "<table border=\"1\" class=\"dataframe\">\n",
       "  <thead>\n",
       "    <tr style=\"text-align: right;\">\n",
       "      <th></th>\n",
       "      <th>index</th>\n",
       "      <th>Text</th>\n",
       "      <th>Tag</th>\n",
       "      <th>sentence_id</th>\n",
       "    </tr>\n",
       "  </thead>\n",
       "  <tbody>\n",
       "    <tr>\n",
       "      <th>0</th>\n",
       "      <td>0</td>\n",
       "      <td>đừng cố biện minh choi lon</td>\n",
       "      <td>[1.0, 0.0, 0.0]</td>\n",
       "      <td>0</td>\n",
       "    </tr>\n",
       "    <tr>\n",
       "      <th>1</th>\n",
       "      <td>1</td>\n",
       "      <td>haizz. nthe này thì dân khổ quá</td>\n",
       "      <td>[0.0, 1.0, 0.0]</td>\n",
       "      <td>1</td>\n",
       "    </tr>\n",
       "    <tr>\n",
       "      <th>2</th>\n",
       "      <td>2</td>\n",
       "      <td>the nay ma chi phat gay roi trat tu cong cong thoi a dung la dan minh</td>\n",
       "      <td>[1.0, 0.0, 0.0]</td>\n",
       "      <td>2</td>\n",
       "    </tr>\n",
       "    <tr>\n",
       "      <th>3</th>\n",
       "      <td>3</td>\n",
       "      <td>mua cho em hộp bcs mĩ sài cho oai</td>\n",
       "      <td>[1.0, 0.0, 0.0]</td>\n",
       "      <td>3</td>\n",
       "    </tr>\n",
       "    <tr>\n",
       "      <th>4</th>\n",
       "      <td>4</td>\n",
       "      <td>coin card</td>\n",
       "      <td>[0.0, 1.0, 0.0]</td>\n",
       "      <td>4</td>\n",
       "    </tr>\n",
       "  </tbody>\n",
       "</table>\n",
       "</div>"
      ],
      "text/plain": [
       "   index  \\\n",
       "0      0   \n",
       "1      1   \n",
       "2      2   \n",
       "3      3   \n",
       "4      4   \n",
       "\n",
       "                                                                    Text  \\\n",
       "0                                             đừng cố biện minh choi lon   \n",
       "1                                        haizz. nthe này thì dân khổ quá   \n",
       "2  the nay ma chi phat gay roi trat tu cong cong thoi a dung la dan minh   \n",
       "3                                      mua cho em hộp bcs mĩ sài cho oai   \n",
       "4                                                              coin card   \n",
       "\n",
       "               Tag  sentence_id  \n",
       "0  [1.0, 0.0, 0.0]            0  \n",
       "1  [0.0, 1.0, 0.0]            1  \n",
       "2  [1.0, 0.0, 0.0]            2  \n",
       "3  [1.0, 0.0, 0.0]            3  \n",
       "4  [0.0, 1.0, 0.0]            4  "
      ]
     },
     "execution_count": 16,
     "metadata": {},
     "output_type": "execute_result"
    }
   ],
   "source": [
    "train['sentence_id'] = train['index']\n",
    "dev['sentence_id'] = dev['index']\n",
    "test['sentence_id'] = test['index']\n",
    "test.head()"
   ]
  },
  {
   "cell_type": "code",
   "execution_count": 17,
   "metadata": {},
   "outputs": [],
   "source": [
    "import os\n",
    "folder_path = \"Data\"\n",
    "if not os.path.exists(folder_path):\n",
    "    # Create the folder if it doesn't exist\n",
    "    os.makedirs(folder_path)\n",
    "\n",
    "train.to_csv(os.path.join(folder_path, \"train.csv\"), index=False)\n",
    "dev.to_csv(os.path.join(folder_path, \"dev.csv\"), index=False)\n",
    "test.to_csv(os.path.join(folder_path, \"test.csv\"), index=False)"
   ]
  },
  {
   "cell_type": "code",
   "execution_count": null,
   "metadata": {},
   "outputs": [],
   "source": []
  }
 ],
 "metadata": {
  "kernelspec": {
   "display_name": "Python 3",
   "language": "python",
   "name": "python3"
  },
  "language_info": {
   "codemirror_mode": {
    "name": "ipython",
    "version": 3
   },
   "file_extension": ".py",
   "mimetype": "text/x-python",
   "name": "python",
   "nbconvert_exporter": "python",
   "pygments_lexer": "ipython3",
   "version": "3.10.5"
  }
 },
 "nbformat": 4,
 "nbformat_minor": 2
}
